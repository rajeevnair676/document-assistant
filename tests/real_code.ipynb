{
 "cells": [
  {
   "cell_type": "code",
   "execution_count": 2,
   "metadata": {},
   "outputs": [],
   "source": [
    "import pdfplumber\n",
    "import os\n",
    "from tqdm.notebook import tqdm\n",
    "import math\n",
    "import pandas as pd\n",
    "import numpy as np\n"
   ]
  },
  {
   "cell_type": "code",
   "execution_count": 3,
   "metadata": {},
   "outputs": [],
   "source": [
    "pdf_path = r'E:\\Others\\document_assistant\\nke-10k-2023.pdf'"
   ]
  },
  {
   "cell_type": "code",
   "execution_count": 4,
   "metadata": {},
   "outputs": [
    {
     "data": {
      "application/vnd.jupyter.widget-view+json": {
       "model_id": "2985ed46633748d09002cd7e57974fe1",
       "version_major": 2,
       "version_minor": 0
      },
      "text/plain": [
       "  0%|          | 0/107 [00:00<?, ?it/s]"
      ]
     },
     "metadata": {},
     "output_type": "display_data"
    }
   ],
   "source": [
    "import pymupdf\n",
    "\n",
    "text_list = []\n",
    "\n",
    "doc = pymupdf.open(pdf_path)\n",
    "for page_number,page in tqdm(enumerate(doc),total=len(doc)):\n",
    "    text_info={}\n",
    "    text = page.get_text()\n",
    "    text_info['page_num'] = page_number\n",
    "    text_info['text_length'] = len(text)\n",
    "    text_info['content'] = text\n",
    "    text_info['num_sentences'] = len(text.split('. '))\n",
    "    text_info['num_words'] = len(text.split(' '))\n",
    "    text_info['num_tokens'] = math.ceil(len(text)/4)\n",
    "    text_list.append(text_info)"
   ]
  },
  {
   "cell_type": "code",
   "execution_count": 5,
   "metadata": {},
   "outputs": [
    {
     "data": {
      "text/plain": [
       "[{'page_num': 0,\n",
       "  'text_length': 3635,\n",
       "  'content': \"Table of Contents\\nUNITED STATES\\nSECURITIES AND EXCHANGE COMMISSION\\nWashington, D.C. 20549\\nFORM 10-K\\n(Mark One)\\n☑ ANNUAL REPORT PURSUANT TO SECTION 13 OR 15(D) OF THE SECURITIES EXCHANGE ACT OF 1934\\nFOR THE FISCAL YEAR ENDED MAY 31, 2023\\nOR\\n☐ TRANSITION REPORT PURSUANT TO SECTION 13 OR 15(D) OF THE SECURITIES EXCHANGE ACT OF 1934\\nFOR THE TRANSITION PERIOD FROM \\xa0\\xa0\\xa0\\xa0\\xa0\\xa0\\xa0\\xa0\\xa0\\xa0\\xa0\\xa0\\xa0\\xa0\\xa0\\xa0\\xa0\\xa0\\xa0\\xa0\\xa0\\xa0\\xa0\\xa0TO \\xa0\\xa0\\xa0\\xa0\\xa0\\xa0\\xa0\\xa0\\xa0\\xa0\\xa0\\xa0\\xa0\\xa0\\xa0\\xa0\\xa0\\xa0\\xa0\\xa0\\xa0\\xa0\\xa0\\xa0.\\nCommission File No.\\xa01-10635\\nNIKE, Inc.\\n(Exact name of Registrant as specified in its charter)\\nOregon\\n93-0584541\\n(State or other jurisdiction of incorporation)\\n(IRS Employer Identification No.)\\nOne Bowerman Drive, Beaverton, Oregon 97005-6453\\n(Address of principal executive offices and zip code)\\n(503) 671-6453\\n(Registrant's telephone number, including area code)\\nSECURITIES REGISTERED PURSUANT TO SECTION\\xa012(B) OF THE ACT:\\nClass B Common Stock\\nNKE\\nNew York Stock Exchange\\n(Title of each class)\\n(Trading symbol)\\n(Name of each exchange on which registered)\\nSECURITIES REGISTERED PURSUANT TO SECTION\\xa012(G) OF THE ACT:\\nNONE\\nIndicate by check mark:\\nYES\\nNO\\n• if the registrant is a well-known seasoned issuer, as defined in Rule 405 of the Securities Act.\\nþ\\n¨\\n• if the registrant is not required to file reports pursuant to Section\\xa013 or Section\\xa015(d) of the Act.\\n¨\\nþ\\n• whether the registrant (1)\\xa0has filed all reports required to be filed by Section\\xa013 or 15(d) of the Securities Exchange Act of 1934 during the preceding\\n12 months (or for such shorter period that the registrant was required to file such reports), and (2)\\xa0has been subject to such filing requirements for the\\npast 90 days.\\nþ\\n¨\\n• whether the registrant has submitted electronically every Interactive Data File required to be submitted pursuant to Rule 405 of Regulation S-T\\n(§232.405 of this chapter) during the preceding 12 months (or for such shorter period that the registrant was required to submit such files).\\nþ\\n¨\\n• whether the registrant is a large accelerated filer, an accelerated filer, a non-accelerated filer, a smaller reporting company or an emerging growth company. See the definitions of “large accelerated filer,”\\n“accelerated filer,” “smaller reporting company,” and “emerging growth company” in Rule 12b-2 of the Exchange Act.\\nLarge accelerated filer\\nþ\\nAccelerated\\xa0filer ☐\\nNon-accelerated\\xa0filer\\n☐\\nSmaller\\xa0reporting\\xa0company\\n☐\\nEmerging growth\\xa0company\\n☐\\n• if an emerging growth company, if the registrant has elected not to use the extended transition period for complying with any new or revised financial\\naccounting standards provided pursuant to Section 13(a) of the Exchange Act.\\n¨\\n• whether the registrant has filed a report on and attestation to its management's assessment of the effectiveness of its internal control over financial\\nreporting under Section 404(b) of the Sarbanes-Oxley Act (15 U.S.C. 7262(b)) by the registered public accounting firm that prepared or issued its audit\\nreport.\\nþ\\n• if securities are registered pursuant to Section 12(b) of the Act, whether the financial statements of the registrant included in the filing reflect the\\ncorrection of an error to previously issued financial statements.\\n¨\\n• whether any of those error corrections are restatements that required a recovery analysis of incentive-based compensation received by any of the\\nregistrant's executive officers during the relevant recovery period pursuant to § 240.10D-1(b).\\n¨\\n• whether the registrant is a shell company (as defined in Rule 12b-2 of the Act).\\n☐\\nþ\\nAs of November\\xa030, 2022, the aggregate market values of the Registrant's Common Stock held by non-affiliates were:\\nClass\\xa0A\\n$\\n7,831,564,572\\xa0\\nClass B\\n136,467,702,472\\xa0\\n$\\n144,299,267,044\\xa0\\n\",\n",
       "  'num_sentences': 4,\n",
       "  'num_words': 478,\n",
       "  'num_tokens': 909},\n",
       " {'page_num': 1,\n",
       "  'text_length': 378,\n",
       "  'content': \"Table of Contents\\nAs of July\\xa012, 2023, the number of shares of the Registrant's Common Stock outstanding were:\\nClass\\xa0A\\n304,897,252\\xa0\\nClass B\\n1,225,074,356\\xa0\\n1,529,971,608\\xa0\\nDOCUMENTS INCORPORATED BY REFERENCE:\\nParts of Registrant's Proxy Statement for the Annual Meeting of Shareholders to be held on September\\xa012, 2023, are incorporated by reference into Part III of this report.\\n\",\n",
       "  'num_sentences': 1,\n",
       "  'num_words': 47,\n",
       "  'num_tokens': 95}]"
      ]
     },
     "execution_count": 5,
     "metadata": {},
     "output_type": "execute_result"
    }
   ],
   "source": [
    "text_list[:2]"
   ]
  },
  {
   "cell_type": "code",
   "execution_count": 6,
   "metadata": {},
   "outputs": [
    {
     "data": {
      "text/html": [
       "<div>\n",
       "<style scoped>\n",
       "    .dataframe tbody tr th:only-of-type {\n",
       "        vertical-align: middle;\n",
       "    }\n",
       "\n",
       "    .dataframe tbody tr th {\n",
       "        vertical-align: top;\n",
       "    }\n",
       "\n",
       "    .dataframe thead th {\n",
       "        text-align: right;\n",
       "    }\n",
       "</style>\n",
       "<table border=\"1\" class=\"dataframe\">\n",
       "  <thead>\n",
       "    <tr style=\"text-align: right;\">\n",
       "      <th></th>\n",
       "      <th>text_length</th>\n",
       "      <th>content</th>\n",
       "      <th>num_sentences</th>\n",
       "      <th>num_words</th>\n",
       "      <th>num_tokens</th>\n",
       "    </tr>\n",
       "    <tr>\n",
       "      <th>page_num</th>\n",
       "      <th></th>\n",
       "      <th></th>\n",
       "      <th></th>\n",
       "      <th></th>\n",
       "      <th></th>\n",
       "    </tr>\n",
       "  </thead>\n",
       "  <tbody>\n",
       "    <tr>\n",
       "      <th>0</th>\n",
       "      <td>3635</td>\n",
       "      <td>Table of Contents\\nUNITED STATES\\nSECURITIES A...</td>\n",
       "      <td>4</td>\n",
       "      <td>478</td>\n",
       "      <td>909</td>\n",
       "    </tr>\n",
       "    <tr>\n",
       "      <th>1</th>\n",
       "      <td>378</td>\n",
       "      <td>Table of Contents\\nAs of July 12, 2023, the nu...</td>\n",
       "      <td>1</td>\n",
       "      <td>47</td>\n",
       "      <td>95</td>\n",
       "    </tr>\n",
       "    <tr>\n",
       "      <th>2</th>\n",
       "      <td>1883</td>\n",
       "      <td>Table of Contents\\nNIKE, INC.\\nANNUAL REPORT O...</td>\n",
       "      <td>2</td>\n",
       "      <td>166</td>\n",
       "      <td>471</td>\n",
       "    </tr>\n",
       "    <tr>\n",
       "      <th>3</th>\n",
       "      <td>4433</td>\n",
       "      <td>Table of Contents\\nPART I\\nITEM 1. BUSINESS\\nG...</td>\n",
       "      <td>21</td>\n",
       "      <td>618</td>\n",
       "      <td>1109</td>\n",
       "    </tr>\n",
       "    <tr>\n",
       "      <th>4</th>\n",
       "      <td>3556</td>\n",
       "      <td>Table of Contents\\nWe also offer interactive c...</td>\n",
       "      <td>18</td>\n",
       "      <td>489</td>\n",
       "      <td>889</td>\n",
       "    </tr>\n",
       "  </tbody>\n",
       "</table>\n",
       "</div>"
      ],
      "text/plain": [
       "          text_length                                            content  \\\n",
       "page_num                                                                   \n",
       "0                3635  Table of Contents\\nUNITED STATES\\nSECURITIES A...   \n",
       "1                 378  Table of Contents\\nAs of July 12, 2023, the nu...   \n",
       "2                1883  Table of Contents\\nNIKE, INC.\\nANNUAL REPORT O...   \n",
       "3                4433  Table of Contents\\nPART I\\nITEM 1. BUSINESS\\nG...   \n",
       "4                3556  Table of Contents\\nWe also offer interactive c...   \n",
       "\n",
       "          num_sentences  num_words  num_tokens  \n",
       "page_num                                        \n",
       "0                     4        478         909  \n",
       "1                     1         47          95  \n",
       "2                     2        166         471  \n",
       "3                    21        618        1109  \n",
       "4                    18        489         889  "
      ]
     },
     "execution_count": 6,
     "metadata": {},
     "output_type": "execute_result"
    }
   ],
   "source": [
    "df = pd.DataFrame(text_list)\n",
    "df.head()\n",
    "df.set_index('page_num',inplace=True)\n",
    "df.head()"
   ]
  },
  {
   "cell_type": "code",
   "execution_count": 7,
   "metadata": {},
   "outputs": [
    {
     "data": {
      "application/vnd.jupyter.widget-view+json": {
       "model_id": "1371455b768e4f398ef8fbb49ccf7c10",
       "version_major": 2,
       "version_minor": 0
      },
      "text/plain": [
       "  0%|          | 0/107 [00:00<?, ?it/s]"
      ]
     },
     "metadata": {},
     "output_type": "display_data"
    }
   ],
   "source": [
    "from spacy.lang.en import English\n",
    "\n",
    "nlp = English()\n",
    "nlp.add_pipe('sentencizer')\n",
    "for info_dict in tqdm(text_list):\n",
    "    doc = nlp(info_dict['content'])\n",
    "    info_dict['sentences'] = [sent.text.strip() for sent in doc.sents]"
   ]
  },
  {
   "cell_type": "code",
   "execution_count": 8,
   "metadata": {},
   "outputs": [
    {
     "data": {
      "text/plain": [
       "{'page_num': 1,\n",
       " 'text_length': 378,\n",
       " 'content': \"Table of Contents\\nAs of July\\xa012, 2023, the number of shares of the Registrant's Common Stock outstanding were:\\nClass\\xa0A\\n304,897,252\\xa0\\nClass B\\n1,225,074,356\\xa0\\n1,529,971,608\\xa0\\nDOCUMENTS INCORPORATED BY REFERENCE:\\nParts of Registrant's Proxy Statement for the Annual Meeting of Shareholders to be held on September\\xa012, 2023, are incorporated by reference into Part III of this report.\\n\",\n",
       " 'num_sentences': 1,\n",
       " 'num_words': 47,\n",
       " 'num_tokens': 95,\n",
       " 'sentences': [\"Table of Contents\\nAs of July\\xa012, 2023, the number of shares of the Registrant's Common Stock outstanding were:\\nClass\\xa0A\\n304,897,252\\xa0\\nClass B\\n1,225,074,356\\xa0\\n1,529,971,608\\xa0\\nDOCUMENTS INCORPORATED BY REFERENCE:\\nParts of Registrant's Proxy Statement for the Annual Meeting of Shareholders to be held on September\\xa012, 2023, are incorporated by reference into Part III of this report.\",\n",
       "  '']}"
      ]
     },
     "execution_count": 8,
     "metadata": {},
     "output_type": "execute_result"
    }
   ],
   "source": [
    "text_list[1]"
   ]
  },
  {
   "cell_type": "code",
   "execution_count": 9,
   "metadata": {},
   "outputs": [],
   "source": [
    "from sentence_transformers import SentenceTransformer"
   ]
  },
  {
   "cell_type": "code",
   "execution_count": 10,
   "metadata": {},
   "outputs": [],
   "source": [
    "embedding_model = SentenceTransformer('all-mpnet-base-v2')"
   ]
  },
  {
   "cell_type": "code",
   "execution_count": 11,
   "metadata": {},
   "outputs": [
    {
     "data": {
      "application/vnd.jupyter.widget-view+json": {
       "model_id": "ac361426d9d9441ba8ad7d46d5f230ed",
       "version_major": 2,
       "version_minor": 0
      },
      "text/plain": [
       "  0%|          | 0/107 [00:00<?, ?it/s]"
      ]
     },
     "metadata": {},
     "output_type": "display_data"
    }
   ],
   "source": [
    "\n",
    "\n",
    "for info_dict in tqdm(text_list):\n",
    "    info_dict['sentence_embeddings'] = embedding_model.encode(info_dict['sentences'])\n"
   ]
  },
  {
   "cell_type": "code",
   "execution_count": 12,
   "metadata": {},
   "outputs": [
    {
     "data": {
      "text/plain": [
       "{'page_num': 1,\n",
       " 'text_length': 378,\n",
       " 'content': \"Table of Contents\\nAs of July\\xa012, 2023, the number of shares of the Registrant's Common Stock outstanding were:\\nClass\\xa0A\\n304,897,252\\xa0\\nClass B\\n1,225,074,356\\xa0\\n1,529,971,608\\xa0\\nDOCUMENTS INCORPORATED BY REFERENCE:\\nParts of Registrant's Proxy Statement for the Annual Meeting of Shareholders to be held on September\\xa012, 2023, are incorporated by reference into Part III of this report.\\n\",\n",
       " 'num_sentences': 1,\n",
       " 'num_words': 47,\n",
       " 'num_tokens': 95,\n",
       " 'sentences': [\"Table of Contents\\nAs of July\\xa012, 2023, the number of shares of the Registrant's Common Stock outstanding were:\\nClass\\xa0A\\n304,897,252\\xa0\\nClass B\\n1,225,074,356\\xa0\\n1,529,971,608\\xa0\\nDOCUMENTS INCORPORATED BY REFERENCE:\\nParts of Registrant's Proxy Statement for the Annual Meeting of Shareholders to be held on September\\xa012, 2023, are incorporated by reference into Part III of this report.\",\n",
       "  ''],\n",
       " 'sentence_embeddings': array([[ 0.02619972, -0.01796566, -0.00275568, ..., -0.01168463,\n",
       "         -0.0890548 , -0.01364677],\n",
       "        [-0.01250337,  0.06143874, -0.00673455, ..., -0.00193862,\n",
       "         -0.05036451, -0.01904945]], dtype=float32)}"
      ]
     },
     "execution_count": 12,
     "metadata": {},
     "output_type": "execute_result"
    }
   ],
   "source": [
    "text_list[1]"
   ]
  },
  {
   "cell_type": "code",
   "execution_count": 13,
   "metadata": {},
   "outputs": [
    {
     "data": {
      "text/plain": [
       "(768,)"
      ]
     },
     "execution_count": 13,
     "metadata": {},
     "output_type": "execute_result"
    }
   ],
   "source": [
    "text_list[1]['sentence_embeddings'][0].shape"
   ]
  },
  {
   "cell_type": "code",
   "execution_count": 23,
   "metadata": {},
   "outputs": [],
   "source": [
    "sample_query = \"What was the revenue of the company in 2022?\"\n",
    "\n",
    "sample_embedding = embedding_model.encode(sample_query)"
   ]
  },
  {
   "cell_type": "code",
   "execution_count": 24,
   "metadata": {},
   "outputs": [],
   "source": [
    "sim = embedding_model.similarity(sample_embedding,text_list[1]['sentence_embeddings'])"
   ]
  },
  {
   "cell_type": "code",
   "execution_count": 25,
   "metadata": {},
   "outputs": [
    {
     "data": {
      "application/vnd.jupyter.widget-view+json": {
       "model_id": "bdeedf5370cb41cb9e7ff2da3b43f081",
       "version_major": 2,
       "version_minor": 0
      },
      "text/plain": [
       "  0%|          | 0/107 [00:00<?, ?it/s]"
      ]
     },
     "metadata": {},
     "output_type": "display_data"
    }
   ],
   "source": [
    "similiarities = []\n",
    "sim_idx = []\n",
    "for i in tqdm(text_list):\n",
    "    sim = embedding_model.similarity(sample_embedding,i['sentence_embeddings'])\n",
    "    # sim_idx = sim.argmax()\n",
    "    similiarities.append(sim.max())\n",
    "    sim_idx.append(sim.argmax())"
   ]
  },
  {
   "cell_type": "code",
   "execution_count": 26,
   "metadata": {},
   "outputs": [
    {
     "data": {
      "text/plain": [
       "tensor(0.7522)"
      ]
     },
     "execution_count": 26,
     "metadata": {},
     "output_type": "execute_result"
    }
   ],
   "source": [
    "max(similiarities)"
   ]
  },
  {
   "cell_type": "code",
   "execution_count": 27,
   "metadata": {},
   "outputs": [
    {
     "data": {
      "text/plain": [
       "tensor(1)"
      ]
     },
     "execution_count": 27,
     "metadata": {},
     "output_type": "execute_result"
    }
   ],
   "source": [
    "sim_idx[np.argmax(similiarities)]"
   ]
  },
  {
   "cell_type": "code",
   "execution_count": 28,
   "metadata": {},
   "outputs": [],
   "source": [
    "retrieved_txt = text_list[np.argmax(similiarities)]['sentences'][sim_idx[np.argmax(similiarities)]]\n",
    "retrieved_pg_no = text_list[np.argmax(similiarities)]['page_num']"
   ]
  },
  {
   "cell_type": "code",
   "execution_count": 29,
   "metadata": {},
   "outputs": [
    {
     "data": {
      "text/plain": [
       "57"
      ]
     },
     "execution_count": 29,
     "metadata": {},
     "output_type": "execute_result"
    }
   ],
   "source": [
    "retrieved_pg_no"
   ]
  },
  {
   "cell_type": "code",
   "execution_count": 20,
   "metadata": {},
   "outputs": [
    {
     "data": {
      "text/plain": [
       "array([[0.18066058, 0.48257306, 0.20899755]], dtype=float32)"
      ]
     },
     "execution_count": 20,
     "metadata": {},
     "output_type": "execute_result"
    }
   ],
   "source": [
    "simarr = np.array(sim)\n",
    "simarr"
   ]
  },
  {
   "cell_type": "code",
   "execution_count": 21,
   "metadata": {},
   "outputs": [
    {
     "name": "stdout",
     "output_type": "stream",
     "text": [
      "[2 1]\n",
      "[0.20899755, 0.48257306]\n"
     ]
    }
   ],
   "source": [
    "a = [0,9,10]\n",
    "\n",
    "top_2_idx = np.argsort(simarr[0])[-2:]\n",
    "print(top_2_idx)\n",
    "top_2_values = [simarr[0][i] for i in top_2_idx]\n",
    "print(top_2_values)"
   ]
  },
  {
   "cell_type": "markdown",
   "metadata": {},
   "source": [
    "Using Langchain"
   ]
  },
  {
   "cell_type": "code",
   "execution_count": 30,
   "metadata": {},
   "outputs": [],
   "source": [
    "from langchain_community.document_loaders import PyMuPDFLoader"
   ]
  },
  {
   "cell_type": "code",
   "execution_count": 32,
   "metadata": {},
   "outputs": [],
   "source": [
    "loader = PyMuPDFLoader(pdf_path)\n",
    "documents = loader.load()"
   ]
  },
  {
   "cell_type": "code",
   "execution_count": 33,
   "metadata": {},
   "outputs": [
    {
     "data": {
      "text/plain": [
       "107"
      ]
     },
     "execution_count": 33,
     "metadata": {},
     "output_type": "execute_result"
    }
   ],
   "source": [
    "len(documents)"
   ]
  },
  {
   "cell_type": "code",
   "execution_count": null,
   "metadata": {},
   "outputs": [],
   "source": [
    "#Cleaning header and footer\n",
    "fr\n"
   ]
  }
 ],
 "metadata": {
  "kernelspec": {
   "display_name": "llama_env",
   "language": "python",
   "name": "python3"
  },
  "language_info": {
   "codemirror_mode": {
    "name": "ipython",
    "version": 3
   },
   "file_extension": ".py",
   "mimetype": "text/x-python",
   "name": "python",
   "nbconvert_exporter": "python",
   "pygments_lexer": "ipython3",
   "version": "3.10.16"
  }
 },
 "nbformat": 4,
 "nbformat_minor": 2
}
