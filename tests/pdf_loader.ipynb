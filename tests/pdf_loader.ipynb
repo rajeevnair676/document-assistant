{
 "cells": [
  {
   "cell_type": "code",
   "execution_count": 3,
   "metadata": {},
   "outputs": [],
   "source": [
    "from langchain_community.document_loaders import PyPDFLoader"
   ]
  },
  {
   "cell_type": "code",
   "execution_count": 7,
   "metadata": {},
   "outputs": [],
   "source": [
    "pdf_file_path = r'E:\\Others\\document_assistant\\nke-10k-2023.pdf'\n",
    "\n",
    "loader = PyPDFLoader(pdf_file_path)\n",
    "docs = loader.load()"
   ]
  },
  {
   "cell_type": "code",
   "execution_count": 9,
   "metadata": {},
   "outputs": [
    {
     "name": "stdout",
     "output_type": "stream",
     "text": [
      "[Document(metadata={'source': 'E:\\\\Others\\\\document_assistant\\\\nke-10k-2023.pdf', 'page': 0}, page_content=\"Table of Contents\\nUNITED STATES\\nSECURITIES AND EXCHANGE COMMISSION\\nWashington, D.C. 20549\\nFORM 10-K\\n(Mark One)\\n☑  ANNUAL REPORT PURSUANT TO SECTION 13 OR 15(D) OF THE SECURITIES EXCHANGE ACT OF 1934\\nFOR THE FISCAL YEAR ENDED MAY 31, 2023\\nOR\\n☐  TRANSITION REPORT PURSUANT TO SECTION 13 OR 15(D) OF THE SECURITIES EXCHANGE ACT OF 1934\\nFOR THE TRANSITION PERIOD FROM                         TO                         .\\nCommission File No. 1-10635\\nNIKE, Inc.\\n(Exact name of Registrant as specified in its charter)\\nOregon 93-0584541\\n(State or other jurisdiction of incorporation) (IRS Employer Identification No.)\\nOne Bowerman Drive, Beaverton, Oregon 97005-6453\\n(Address of principal executive offices and zip code)\\n(503) 671-6453\\n(Registrant's telephone number, including area code)\\nSECURITIES REGISTERED PURSUANT TO SECTION 12(B) OF THE ACT:\\nClass B Common Stock NKE New York Stock Exchange\\n(Title of each class) (Trading symbol) (Name of each exchange on which registered)\\nSECURITIES REGISTERED PURSUANT TO SECTION 12(G) OF THE ACT:\\nNONE\\nIndicate by check mark: YES NO\\n• if the registrant is a well-known seasoned issuer, as defined in Rule 405 of the Securities Act. þ ¨ \\n• if the registrant is not required to file reports pursuant to Section 13 or Section 15(d) of the Act. ¨ þ \\n• whether the registrant (1) has filed all reports required to be filed by Section 13 or 15(d) of the Securities Exchange Act of 1934 during the preceding\\n12 months (or for such shorter period that the registrant was required to file such reports), and (2) has been subject to such filing requirements for the\\npast 90 days.\\nþ ¨ \\n• whether the registrant has submitted electronically every Interactive Data File required to be submitted pursuant to Rule 405 of Regulation S-T\\n(§232.405 of this chapter) during the preceding 12 months (or for such shorter period that the registrant was required to submit such files).\\nþ ¨ \\n• whether the registrant is a large accelerated filer, an accelerated filer, a non-accelerated filer, a smaller reporting company or an emerging growth company. See the definitions of “large accelerated filer,”\\n“accelerated filer,” “smaller reporting company,” and “emerging growth company” in Rule 12b-2 of the Exchange Act.\\nLarge accelerated filer þ Accelerated filer ☐ Non-accelerated filer ☐ Smaller reporting company ☐ Emerging growth company ☐ \\n• if an emerging growth company, if the registrant has elected not to use the extended transition period for complying with any new or revised financial\\naccounting standards provided pursuant to Section 13(a) of the Exchange Act.\\n¨ \\n• whether the registrant has filed a report on and attestation to its management's assessment of the effectiveness of its internal control over financial\\nreporting under Section 404(b) of the Sarbanes-Oxley Act (15 U.S.C. 7262(b)) by the registered public accounting firm that prepared or issued its audit\\nreport.\\nþ \\n• if securities are registered pursuant to Section 12(b) of the Act, whether the financial statements of the registrant included in the filing reflect the\\ncorrection of an error to previously issued financial statements.\\n¨ \\n• whether any of those error corrections are restatements that required a recovery analysis of incentive-based compensation received by any of the\\nregistrant's executive officers during the relevant recovery period pursuant to § 240.10D-1(b).\\n¨ \\n• whether the registrant is a shell company (as defined in Rule 12b-2 of the Act). ☐ þ \\nAs of November 30, 2022, the aggregate market values of the Registrant's Common Stock held by non-affiliates were:\\nClass A $ 7,831,564,572 \\nClass B 136,467,702,472 \\n$ 144,299,267,044 \"), Document(metadata={'source': 'E:\\\\Others\\\\document_assistant\\\\nke-10k-2023.pdf', 'page': 1}, page_content=\"Table of Contents\\nAs of July 12, 2023, the number of shares of the Registrant's Common Stock outstanding were:\\nClass A 304,897,252 \\nClass B 1,225,074,356 \\n1,529,971,608 \\nDOCUMENTS INCORPORATED BY REFERENCE:\\nParts of Registrant's Proxy Statement for the Annual Meeting of Shareholders to be held on September 12, 2023, are incorporated by reference into Part III of this report.\")]\n"
     ]
    }
   ],
   "source": [
    "print(docs[:2])"
   ]
  },
  {
   "cell_type": "code",
   "execution_count": 11,
   "metadata": {},
   "outputs": [],
   "source": [
    "from langchain_text_splitters import RecursiveCharacterTextSplitter"
   ]
  },
  {
   "cell_type": "code",
   "execution_count": 12,
   "metadata": {},
   "outputs": [
    {
     "data": {
      "text/plain": [
       "460"
      ]
     },
     "execution_count": 12,
     "metadata": {},
     "output_type": "execute_result"
    }
   ],
   "source": [
    "text_splitter = RecursiveCharacterTextSplitter(chunk_size=1000,chunk_overlap=100)\n",
    "\n",
    "chunks = text_splitter.split_documents(docs)\n",
    "len(chunks)"
   ]
  },
  {
   "cell_type": "code",
   "execution_count": 14,
   "metadata": {},
   "outputs": [],
   "source": [
    "from langchain_huggingface import HuggingFaceEmbeddings"
   ]
  },
  {
   "cell_type": "code",
   "execution_count": 18,
   "metadata": {},
   "outputs": [],
   "source": [
    "embeddings = HuggingFaceEmbeddings(model_name='sentence-transformers/all-mpnet-base-v2')"
   ]
  },
  {
   "cell_type": "code",
   "execution_count": 15,
   "metadata": {},
   "outputs": [],
   "source": [
    "from langchain_community.vectorstores import FAISS"
   ]
  },
  {
   "cell_type": "code",
   "execution_count": 24,
   "metadata": {},
   "outputs": [],
   "source": [
    "from langchain.schema import Document as LangchainDocument"
   ]
  },
  {
   "cell_type": "code",
   "execution_count": 35,
   "metadata": {},
   "outputs": [],
   "source": [
    "vectorstore = FAISS.from_documents([LangchainDocument(page_content=chunk.page_content) for chunk in chunks],embeddings)"
   ]
  },
  {
   "cell_type": "code",
   "execution_count": 37,
   "metadata": {},
   "outputs": [
    {
     "name": "stdout",
     "output_type": "stream",
     "text": [
      "page_content='Table of Contents\n",
      "RESULTS OF OPERATIONS\n",
      "(Dollars in millions, except per share data) FISCAL 2023 FISCAL 2022 % CHANGE FISCAL 2021 % CHANGE\n",
      "Revenues $ 51,217 $ 46,710 10 %$ 44,538 5 %\n",
      "Cost of sales 28,925 25,231 15 % 24,576 3 %\n",
      "Gross profit 22,292 21,479 4 % 19,962 8 %\n",
      "Gross margin 43.5 % 46.0 % 44.8 %\n",
      "Demand creation expense 4,060 3,850 5 % 3,114 24 %\n",
      "Operating overhead expense 12,317 10,954 12 % 9,911 11 %\n",
      "Total selling and administrative expense 16,377 14,804 11 % 13,025 14 %\n",
      "% of revenues 32.0 % 31.7 % 29.2 %\n",
      "Interest expense (income), net (6) 205 — 262 — \n",
      "Other (income) expense, net (280) (181) — 14 — \n",
      "Income before income taxes 6,201 6,651 -7 % 6,661 0 %\n",
      "Income tax expense 1,131 605 87 % 934 -35 %\n",
      "Effective tax rate 18.2 % 9.1 % 14.0 %\n",
      "NET INCOME $ 5,070 $ 6,046 -16 %$ 5,727 6 %\n",
      "Diluted earnings per common share $ 3.23 $ 3.75 -14 %$ 3.56 5 %\n",
      "2023 FORM 10-K 31'\n"
     ]
    }
   ],
   "source": [
    "results = vectorstore.similarity_search(\n",
    "    \"What is the net profit in the fiscal 2023?\"\n",
    ")\n",
    "\n",
    "print(results[0])"
   ]
  },
  {
   "cell_type": "code",
   "execution_count": 38,
   "metadata": {},
   "outputs": [],
   "source": [
    "def retrieve(query: str):\n",
    "    \"\"\"Retrieve information related to a query.\"\"\"\n",
    "    retrieved_docs = vectorstore.similarity_search(query, k=2)\n",
    "    serialized = \"\\n\\n\".join(\n",
    "        (f\"Source: {doc.metadata}\\n\" f\"Content: {doc.page_content}\")\n",
    "        for doc in retrieved_docs\n",
    "    )\n",
    "    return serialized, retrieved_docs"
   ]
  },
  {
   "cell_type": "code",
   "execution_count": 39,
   "metadata": {},
   "outputs": [
    {
     "data": {
      "text/plain": [
       "('Source: {}\\nContent: Table of Contents\\nRESULTS OF OPERATIONS\\n(Dollars in millions, except per share data) FISCAL 2023 FISCAL 2022 % CHANGE FISCAL 2021 % CHANGE\\nRevenues $ 51,217 $ 46,710 10 %$ 44,538 5 %\\nCost of sales 28,925 25,231 15 % 24,576 3 %\\nGross profit 22,292 21,479 4 % 19,962 8 %\\nGross margin 43.5 % 46.0 % 44.8 %\\nDemand creation expense 4,060 3,850 5 % 3,114 24 %\\nOperating overhead expense 12,317 10,954 12 % 9,911 11 %\\nTotal selling and administrative expense 16,377 14,804 11 % 13,025 14 %\\n% of revenues 32.0 % 31.7 % 29.2 %\\nInterest expense (income), net (6) 205 — 262 — \\nOther (income) expense, net (280) (181) — 14 — \\nIncome before income taxes 6,201 6,651 -7 % 6,661 0 %\\nIncome tax expense 1,131 605 87 % 934 -35 %\\nEffective tax rate 18.2 % 9.1 % 14.0 %\\nNET INCOME $ 5,070 $ 6,046 -16 %$ 5,727 6 %\\nDiluted earnings per common share $ 3.23 $ 3.75 -14 %$ 3.56 5 %\\n2023 FORM 10-K 31\\n\\nSource: {}\\nContent: Table of Contents\\nNOTE 10 — EARNINGS PER SHARE\\nThe following is a reconciliation from basic earnings per common share to diluted earnings per common share. The computations of diluted earnings per common share\\nexcluded restricted stock, restricted stock units and options, including shares under ESPPs, to purchase an estimated additional 31.7 million, 9.4 million and 11.3 million\\nshares of common stock outstanding for the fiscal years ended May 31, 2023, 2022 and 2021, respectively, because the awards were assumed to be anti-dilutive.\\n YEAR ENDED MAY 31,\\n(In millions, except per share data) 2023 2022 2021\\nNet income available to common stockholders $ 5,070 $ 6,046 $ 5,727 \\nDetermination of shares:\\nWeighted average common shares outstanding 1,551.6 1,578.8 1,573.0 \\nAssumed conversion of dilutive stock options and awards 18.2 32.0 36.4 \\nDILUTED WEIGHTED AVERAGE COMMON SHARES OUTSTANDING 1,569.8 1,610.8 1,609.4 \\nEarnings per common share:\\nBasic $ 3.27 $ 3.83 $ 3.64',\n",
       " [Document(metadata={}, page_content='Table of Contents\\nRESULTS OF OPERATIONS\\n(Dollars in millions, except per share data) FISCAL 2023 FISCAL 2022 % CHANGE FISCAL 2021 % CHANGE\\nRevenues $ 51,217 $ 46,710 10 %$ 44,538 5 %\\nCost of sales 28,925 25,231 15 % 24,576 3 %\\nGross profit 22,292 21,479 4 % 19,962 8 %\\nGross margin 43.5 % 46.0 % 44.8 %\\nDemand creation expense 4,060 3,850 5 % 3,114 24 %\\nOperating overhead expense 12,317 10,954 12 % 9,911 11 %\\nTotal selling and administrative expense 16,377 14,804 11 % 13,025 14 %\\n% of revenues 32.0 % 31.7 % 29.2 %\\nInterest expense (income), net (6) 205 — 262 — \\nOther (income) expense, net (280) (181) — 14 — \\nIncome before income taxes 6,201 6,651 -7 % 6,661 0 %\\nIncome tax expense 1,131 605 87 % 934 -35 %\\nEffective tax rate 18.2 % 9.1 % 14.0 %\\nNET INCOME $ 5,070 $ 6,046 -16 %$ 5,727 6 %\\nDiluted earnings per common share $ 3.23 $ 3.75 -14 %$ 3.56 5 %\\n2023 FORM 10-K 31'),\n",
       "  Document(metadata={}, page_content='Table of Contents\\nNOTE 10 — EARNINGS PER SHARE\\nThe following is a reconciliation from basic earnings per common share to diluted earnings per common share. The computations of diluted earnings per common share\\nexcluded restricted stock, restricted stock units and options, including shares under ESPPs, to purchase an estimated additional 31.7 million, 9.4 million and 11.3 million\\nshares of common stock outstanding for the fiscal years ended May 31, 2023, 2022 and 2021, respectively, because the awards were assumed to be anti-dilutive.\\n YEAR ENDED MAY 31,\\n(In millions, except per share data) 2023 2022 2021\\nNet income available to common stockholders $ 5,070 $ 6,046 $ 5,727 \\nDetermination of shares:\\nWeighted average common shares outstanding 1,551.6 1,578.8 1,573.0 \\nAssumed conversion of dilutive stock options and awards 18.2 32.0 36.4 \\nDILUTED WEIGHTED AVERAGE COMMON SHARES OUTSTANDING 1,569.8 1,610.8 1,609.4 \\nEarnings per common share:\\nBasic $ 3.27 $ 3.83 $ 3.64')])"
      ]
     },
     "execution_count": 39,
     "metadata": {},
     "output_type": "execute_result"
    }
   ],
   "source": [
    "retrieve(\"What is the net profit in the fiscal 2023?\")"
   ]
  },
  {
   "cell_type": "code",
   "execution_count": null,
   "metadata": {},
   "outputs": [],
   "source": []
  }
 ],
 "metadata": {
  "kernelspec": {
   "display_name": "llama_env",
   "language": "python",
   "name": "python3"
  },
  "language_info": {
   "codemirror_mode": {
    "name": "ipython",
    "version": 3
   },
   "file_extension": ".py",
   "mimetype": "text/x-python",
   "name": "python",
   "nbconvert_exporter": "python",
   "pygments_lexer": "ipython3",
   "version": "3.10.16"
  }
 },
 "nbformat": 4,
 "nbformat_minor": 2
}
