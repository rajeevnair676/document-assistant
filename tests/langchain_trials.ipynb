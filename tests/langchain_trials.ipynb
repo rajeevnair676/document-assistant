{
 "cells": [
  {
   "cell_type": "code",
   "execution_count": 45,
   "metadata": {},
   "outputs": [],
   "source": [
    "# Load the documents\n",
    "\n",
    "import os\n",
    "from langchain_community.document_loaders import PyMuPDFLoader\n",
    "import spacy\n",
    "from langchain_text_splitters.spacy import SpacyTextSplitter\n",
    "from langchain_text_splitters import RecursiveCharacterTextSplitter\n",
    "import torch\n",
    "import warnings\n",
    "from tqdm.notebook import tqdm\n",
    "\n",
    "warnings.filterwarnings(\"ignore\")\n"
   ]
  },
  {
   "cell_type": "code",
   "execution_count": 46,
   "metadata": {},
   "outputs": [],
   "source": [
    "device = torch.device(\"cuda\" if torch.cuda.is_available() else \"cpu\")"
   ]
  },
  {
   "cell_type": "code",
   "execution_count": 47,
   "metadata": {},
   "outputs": [
    {
     "data": {
      "text/plain": [
       "device(type='cuda')"
      ]
     },
     "execution_count": 47,
     "metadata": {},
     "output_type": "execute_result"
    }
   ],
   "source": [
    "device"
   ]
  },
  {
   "cell_type": "code",
   "execution_count": 48,
   "metadata": {},
   "outputs": [],
   "source": [
    "pdf_file_path = r'E:\\Others\\document_assistant\\VWAccessories Catalogue_2020_spread.pdf'"
   ]
  },
  {
   "cell_type": "code",
   "execution_count": 49,
   "metadata": {},
   "outputs": [],
   "source": [
    "def pdf_loader(pdf_path):\n",
    "    loader = PyMuPDFLoader(pdf_path)\n",
    "    document = loader.load()\n",
    "    return document"
   ]
  },
  {
   "cell_type": "code",
   "execution_count": 50,
   "metadata": {},
   "outputs": [],
   "source": [
    "#Splitting the text from documents"
   ]
  },
  {
   "cell_type": "code",
   "execution_count": 51,
   "metadata": {},
   "outputs": [
    {
     "name": "stdout",
     "output_type": "stream",
     "text": [
      "→  Volkswagen Genuine hub caps1\n",
      "Volkswagen Genuine hub caps with an embossed\n",
      "Volkswagen logo impress with their dynamic \n",
      "spinning function, which guarantees that the \n",
      "Volkswagen logo remains in the perfect position \n",
      "while driving and in any parking situation.\n",
      "1\t Use of the hub cap depends on the wheel.  \n",
      "\t Please ask your Volkswagen dealership.\n",
      "8 |\n",
      "| 9\n",
      "01   LED tail light with animated indicator light\n",
      "     \n",
      "• Premium Volkswagen Genuine quality\n",
      "• Exclusive tinted design\n",
      "• For easy replacement or retrofitting\n",
      "• 1 set, consisting of four LED tail lights,\n",
      "  adapter for the electrical installation kit and\n",
      "  installation instructions with coding instructions.\n",
      "Part number: 5H1.052.200 - LHD\n",
      "Part number: 5H2.052.200 - RHD\n",
      "02   Protective strip for the tailgate\n",
      "The protective strip for the tailgate with its C hrome\n",
      "look lends the vehicle a refined and elegant\n",
      "appearance. Quick and easy attachment to the lower\n",
      "edge of the tailgate. Also acts as an edge protector.\n",
      "01\n",
      "02\n",
      "\n"
     ]
    }
   ],
   "source": [
    "document = pdf_loader(pdf_file_path)\n",
    "print(document[4].page_content)"
   ]
  },
  {
   "cell_type": "code",
   "execution_count": 52,
   "metadata": {},
   "outputs": [],
   "source": [
    "text_splitter = SpacyTextSplitter(pipeline='sentencizer')\n",
    "doc_split = text_splitter.split_documents(document)"
   ]
  },
  {
   "cell_type": "code",
   "execution_count": 53,
   "metadata": {},
   "outputs": [],
   "source": [
    "text_splitter = RecursiveCharacterTextSplitter(chunk_size=1000,chunk_overlap=100)\n",
    "doc_split = text_splitter.split_documents(document)"
   ]
  },
  {
   "cell_type": "code",
   "execution_count": 55,
   "metadata": {},
   "outputs": [
    {
     "data": {
      "text/plain": [
       "'| 13\\nPanel trim protective film\\nProtected\\nat any time\\nLooks good and protects: \\nThe black and precisely cut \\nsill protector film with silver \\ndecorative stripes protects \\nagainst scratches around \\nthe door sill. Easy to install.\\n01   Textile floor mats front and rear, Black,\\n\\t\\nPremium with Golf branding, left-hand drive\\n\\t\\nPart number: 5H1061270 WGK\\n02   Textile floor mats front and rear, Black,\\n\\t\\n Premium with Golf branding, right-hand drive\\n\\t\\n Part number: 5H2061270 WGK\\n03   Textile floor mats front and rear, Black, Optimat\\n\\t\\n Part number: 5H1061445 WGK\\n04   Textile floor mats front and rear, \"Plus\",\\n\\t\\n Black, left-hand drive\\n\\t\\n Part number: 5G1061404 WGK\\n05   All-weather floor mats front and rear,\\n\\t\\n Titanium Black, left-hand drive\\n\\t\\n Part number: 5H1061500 82V\\n06   All-weather floor mats front and rear,\\n\\t\\n Titanium Black, left-hand drive\\n\\t\\n Part number: 5H1061500 82V\\n07   All-weather floor mats rear, Titanium Black\\n\\t\\nPart number: 5H0061512 82V'"
      ]
     },
     "execution_count": 55,
     "metadata": {},
     "output_type": "execute_result"
    }
   ],
   "source": [
    "doc_split[7].page_content"
   ]
  },
  {
   "cell_type": "code",
   "execution_count": 56,
   "metadata": {},
   "outputs": [],
   "source": [
    "#Embedding\n",
    "from langchain_huggingface import HuggingFaceEmbeddings\n",
    "from langchain_core.documents import Document as LangchainDocument"
   ]
  },
  {
   "cell_type": "code",
   "execution_count": 57,
   "metadata": {},
   "outputs": [],
   "source": [
    "model_name = 'sentence-transformers/all-mpnet-base-v2'\n",
    "model_kwargs = {'device': 'cuda'}\n",
    "embeddings = HuggingFaceEmbeddings(model_name=model_name,model_kwargs=model_kwargs)"
   ]
  },
  {
   "cell_type": "code",
   "execution_count": 58,
   "metadata": {},
   "outputs": [
    {
     "data": {
      "application/vnd.jupyter.widget-view+json": {
       "model_id": "250e72694e9a46dfbde83c01d39a8817",
       "version_major": 2,
       "version_minor": 0
      },
      "text/plain": [
       "  0%|          | 0/52 [00:00<?, ?it/s]"
      ]
     },
     "metadata": {},
     "output_type": "display_data"
    }
   ],
   "source": [
    "embed_docs  = embeddings.embed_documents([doc.page_content for doc in tqdm(doc_split)])\n"
   ]
  },
  {
   "cell_type": "code",
   "execution_count": 59,
   "metadata": {},
   "outputs": [
    {
     "data": {
      "text/plain": [
       "52"
      ]
     },
     "execution_count": 59,
     "metadata": {},
     "output_type": "execute_result"
    }
   ],
   "source": [
    "len(embed_docs)"
   ]
  },
  {
   "cell_type": "code",
   "execution_count": 60,
   "metadata": {},
   "outputs": [],
   "source": [
    "sample_query = \"What is the ideal BP for the humans?\"\n",
    "query_embed = embeddings.embed_query(sample_query)"
   ]
  },
  {
   "cell_type": "code",
   "execution_count": 61,
   "metadata": {},
   "outputs": [],
   "source": [
    "import faiss\n",
    "from langchain_community.docstore.in_memory import InMemoryDocstore\n",
    "from langchain_community.vectorstores import FAISS"
   ]
  },
  {
   "cell_type": "code",
   "execution_count": 62,
   "metadata": {},
   "outputs": [],
   "source": [
    "index = faiss.IndexFlatL2(len(embeddings.embed_query(\"hello world\")))\n",
    "\n",
    "vector_store = FAISS(\n",
    "    embedding_function=embeddings,\n",
    "    index=index,\n",
    "    docstore=InMemoryDocstore(),\n",
    "    index_to_docstore_id={},\n",
    ")"
   ]
  },
  {
   "cell_type": "code",
   "execution_count": 63,
   "metadata": {},
   "outputs": [
    {
     "data": {
      "text/plain": [
       "Document(metadata={'source': 'E:\\\\Others\\\\document_assistant\\\\VWAccessories Catalogue_2020_spread.pdf', 'file_path': 'E:\\\\Others\\\\document_assistant\\\\VWAccessories Catalogue_2020_spread.pdf', 'page': 0, 'total_pages': 33, 'format': 'PDF 1.6', 'title': '', 'author': '', 'subject': '', 'keywords': '', 'creator': 'Adobe InDesign 15.0 (Macintosh)', 'producer': 'Adobe PDF Library 15.0', 'creationDate': \"D:20201213133913+04'00'\", 'modDate': \"D:20210217151128+02'00'\", 'trapped': ''}, page_content='| 01\\nAccessories Catalogue \\nFor Passenger Cars')"
      ]
     },
     "execution_count": 63,
     "metadata": {},
     "output_type": "execute_result"
    }
   ],
   "source": [
    "doc_split[0]"
   ]
  },
  {
   "cell_type": "code",
   "execution_count": 64,
   "metadata": {},
   "outputs": [
    {
     "data": {
      "text/plain": [
       "['8b004a68-b7ff-4563-8a9b-fad5da839089',\n",
       " 'da51e3dd-d567-40f8-9a20-bb8cbec5221b',\n",
       " 'ca8f8d58-9d42-42d8-83eb-69d480ff8807',\n",
       " 'a5284797-064b-43f3-ae8c-5c550bc6da5d',\n",
       " 'e59acf2a-8163-405b-868b-d374edbd6917',\n",
       " 'a56ed361-4bba-4104-87e6-48c6990a59a3',\n",
       " 'defd1e5e-5038-4875-a2e2-928ecd3fc9e0',\n",
       " '4a9eb8b5-d9d0-47e8-bb4a-6ceaac76ffda',\n",
       " 'e045e4f6-9655-412b-9242-1d706e3d5b74',\n",
       " 'eb014f9e-53de-40d7-afca-262e3fecdd74',\n",
       " '304a7b80-5742-4c8f-9a5b-cb02f4b8c659',\n",
       " '665409a7-f28a-47c0-9563-896056795b8f',\n",
       " 'da9d1f2d-0d38-406b-bd32-c1d4ca007b43',\n",
       " 'eefd9c6f-e4c2-4387-8ce6-3e46a790581d',\n",
       " '01794446-730e-4008-a11c-b16376ac4096',\n",
       " 'c1138923-9424-4050-9203-23f601c0f01c',\n",
       " '0ce838d6-45ed-4108-9a53-c4cdcdb15d3f',\n",
       " 'b8c41e5f-197c-4a5c-9ea0-aa0efc006e68',\n",
       " '8e75e9de-7a6c-4c8a-9189-05770fafbee9',\n",
       " 'dcc220f0-f9b8-41bc-af35-dd70d904b447',\n",
       " '92fe6011-2cf1-49a8-ac1e-06977f880752',\n",
       " 'f8534dd9-3e2d-41db-8f2a-ceb8a3765ce1',\n",
       " '354b068c-bba9-4155-b295-0b0e61f5f600',\n",
       " '8b86e2a8-fe6d-464b-b4be-33e5aeac35fc',\n",
       " 'c6c0df5c-0ae5-456e-84f2-67560d4e0cfe',\n",
       " '0af03b98-9dca-4de0-a2e0-8b52caa20115',\n",
       " 'e44fb35f-b28e-46fa-be21-8353bee65a97',\n",
       " '5c9fe8c9-ba46-4c82-9124-07138ce45ec7',\n",
       " '0982bd4a-8b27-43f9-bbd2-30ba771a7d5f',\n",
       " '29a6f69d-ae0f-4b4d-b3eb-86b63d50a091',\n",
       " '2bd46268-c1d5-4e4c-a5cd-834e7359440b',\n",
       " '388bcabc-15e6-450c-a11c-aaf778293995',\n",
       " '4d07ec0e-9bf5-497a-af3b-77a3c75578e0',\n",
       " '238771ac-76cb-425f-9fd8-775f84b5a4eb',\n",
       " 'a769b7c5-466d-4f1e-85ba-b9ade64eca5b',\n",
       " '5d155469-649f-48f2-8b64-b9a168330667',\n",
       " '3ed3551e-6763-4f11-a5ad-aa1a2f6d9694',\n",
       " 'ef166e45-c764-4778-a54b-254a52283bfa',\n",
       " 'bfaba309-de04-4ad2-bb9f-52589fe1bd42',\n",
       " 'b0538038-0a30-4485-b3d3-6675d28e01b4',\n",
       " '978573d3-1105-4c5c-a24d-0a5c5da5ac66',\n",
       " '9cf977e2-29ed-4cd1-a782-ebe248fc5051',\n",
       " 'd1b33b00-10a7-4d9e-ab44-090c932494a0',\n",
       " '561cbfbf-9051-4bd7-ab6a-6ed21969b598',\n",
       " 'aac5911b-a0b9-4ed1-bbda-7b328e7739be',\n",
       " '81f0463f-f6d8-47a9-a560-6ba544b16285',\n",
       " '631f34fc-a2c8-4d43-a67a-636a482b6159',\n",
       " '6fd8ad0a-e7d2-4347-beee-bf012c8537f1',\n",
       " '415e9c56-b2da-46e1-a483-c7645256ad6f',\n",
       " 'e892c4b5-3054-4134-9253-80981c1ab15a',\n",
       " '055ee837-6d49-4383-9daa-fcfe077a8072',\n",
       " '84d0d145-375a-447b-b1d4-0324a4e7520c']"
      ]
     },
     "execution_count": 64,
     "metadata": {},
     "output_type": "execute_result"
    }
   ],
   "source": [
    "from uuid import uuid4\n",
    "\n",
    "docs = [doc.page_content for doc in doc_split]\n",
    "\n",
    "uuids = [str(uuid4()) for _ in range(len(doc_split))]\n",
    "vector_store.add_documents(documents=doc_split, ids=uuids)"
   ]
  },
  {
   "cell_type": "code",
   "execution_count": 65,
   "metadata": {},
   "outputs": [
    {
     "name": "stdout",
     "output_type": "stream",
     "text": [
      "* 01    Universal Traffic Recorder – \n",
      "front and rear\n",
      "The 2-camera system records what \n",
      "happens in front of and behind the \n",
      "vehicle in the event of damage. It is \n",
      "installed on the windscreen and \n",
      "rear window in a visually appealing \n",
      "way and firmly glued to the \n",
      "windscreen/window. \n",
      "Part number: 000.063.511.E\n",
      "02    Cradle for Mobile\n",
      "The universal smartphone holder \n",
      "keeps a tight grip on your mobile \n",
      "with its 70mm diameter suction \n",
      "cup which provides an incredibly \n",
      "strong bond to the windscreen or \n",
      "any other smooth surface. \n",
      "Part number: 000.051.435.AG\n",
      "03    USB extension\n",
      "The 2216 USB extension cable is particularly\n",
      "suited to use with the Volkswagen CarStick,\n",
      "and can also be used to connect other USB-\n",
      "connectable products to the infotainment\n",
      "system. \n",
      "Part number: 000.051.446.T\n",
      "04    Reading light\n",
      "The LED reading light from Volkswagen\n",
      "Accessories allows passengers to also have\n",
      "light at the back of the car when it’s dark\n",
      "outside. The universally usable LED reading [{'source': 'E:\\\\Others\\\\document_assistant\\\\VWAccessories Catalogue_2020_spread.pdf', 'file_path': 'E:\\\\Others\\\\document_assistant\\\\VWAccessories Catalogue_2020_spread.pdf', 'page': 11, 'total_pages': 33, 'format': 'PDF 1.6', 'title': '', 'author': '', 'subject': '', 'keywords': '', 'creator': 'Adobe InDesign 15.0 (Macintosh)', 'producer': 'Adobe PDF Library 15.0', 'creationDate': \"D:20201213133913+04'00'\", 'modDate': \"D:20210217151128+02'00'\", 'trapped': ''}]\n",
      "* | 17\n",
      "As reliable as ever and sportier than ever before: The new Passat \n",
      "features expressive and harmonious design. Our accessories portfolio \n",
      "– which underscores the dynamic style of the classic with everything \n",
      "from alloy wheels to tail lights.\n",
      "The ultimate\n",
      "family sedan\n",
      "for you and yours\n",
      "Passat [{'source': 'E:\\\\Others\\\\document_assistant\\\\VWAccessories Catalogue_2020_spread.pdf', 'file_path': 'E:\\\\Others\\\\document_assistant\\\\VWAccessories Catalogue_2020_spread.pdf', 'page': 8, 'total_pages': 33, 'format': 'PDF 1.6', 'title': '', 'author': '', 'subject': '', 'keywords': '', 'creator': 'Adobe InDesign 15.0 (Macintosh)', 'producer': 'Adobe PDF Library 15.0', 'creationDate': \"D:20201213133913+04'00'\", 'modDate': \"D:20210217151128+02'00'\", 'trapped': ''}]\n",
      "* 32 |\n",
      "| 33\n",
      "01   Sun protection\n",
      "Easy handling, custom-fit form: The Volkswagen\n",
      "Genuine sunblinds for the rear side windows,\n",
      "luggage compartment side windows and tailgate\n",
      "window protect the inside of the vehicle from\n",
      "direct sunlight – without any impairment\n",
      "of vision or road safety.\n",
      "02   Running boards for side skirts\n",
      "• Can be combined with front mud flaps\n",
      "• Anti-slip effect for safe access to the vehicle\n",
      "• Easy to load items on the vehicle’s roof\n",
      "• Material: Silver anodised aluminium\n",
      "03   Front mud flaps\n",
      "• Protection against dirt and stone chips\n",
      "• Simply attach behind the wheel arches\n",
      "• Long-lasting and hard-wearing\n",
      "02\n",
      "01\n",
      "03\n",
      "04  Model cars\n",
      "The new Tiguan presents itself in an exciting new \n",
      "light - like the model car at a scale of 1:87.\n",
      "05  Ball pen\n",
      "Grey twist ballpoint pen from Klio with a satined \n",
      "metal tip and an integrated USB stick (4GB) in the\n",
      "upper part with white Tiguan-lettering on the clip.\n",
      "Each individual pen is in its own tuck-in sheath. [{'source': 'E:\\\\Others\\\\document_assistant\\\\VWAccessories Catalogue_2020_spread.pdf', 'file_path': 'E:\\\\Others\\\\document_assistant\\\\VWAccessories Catalogue_2020_spread.pdf', 'page': 16, 'total_pages': 33, 'format': 'PDF 1.6', 'title': '', 'author': '', 'subject': '', 'keywords': '', 'creator': 'Adobe InDesign 15.0 (Macintosh)', 'producer': 'Adobe PDF Library 15.0', 'creationDate': \"D:20201213133913+04'00'\", 'modDate': \"D:20210217151128+02'00'\", 'trapped': ''}]\n"
     ]
    }
   ],
   "source": [
    "results = vector_store.similarity_search(\n",
    "    \"Does the car has camera?\",\n",
    "    k=3)\n",
    "\n",
    "for res in results:\n",
    "    print(f\"* {res.page_content} [{res.metadata}]\")"
   ]
  },
  {
   "cell_type": "code",
   "execution_count": 66,
   "metadata": {},
   "outputs": [
    {
     "name": "stdout",
     "output_type": "stream",
     "text": [
      "* [SIM=1.241033] rating (kg): 1,810\n",
      "Snow chains servo - SUV\n",
      "Tyre size: 255/60 R18,\n",
      "255/55 R19\n",
      "Scope of supply: 2\n",
      "pieces, incl. storage bag\n",
      "Quality without\n",
      "compromise\n",
      "With the light alloy rims and complete wheels for the new Touareg, there are a large number of options, and \n",
      "variety in design with no compromises on quality and functionality.\n",
      "The Volkswagen Genuine light alloy wheels\n",
      "• Strength tests check the strains on the wheel under excess load, shocks and cornering.\n",
      "• Material and surface are tested for tensile strength and elongation as well as resistance to scratches\n",
      "  and corrosion.\n",
      "• Vehicle tests check the complete wheels under rigorous conditions on the test track.\n",
      "• The endurance test on the two-axle wheel inspection rig simulates high loads.\n",
      "The fully automatic mounting of complete wheels takes place on state-of-the-art production systems.\n",
      "Wheel and tyres are combined to produce a high-quality unit. Precise production under temperature- [{'source': 'E:\\\\Others\\\\document_assistant\\\\VWAccessories Catalogue_2020_spread.pdf', 'file_path': 'E:\\\\Others\\\\document_assistant\\\\VWAccessories Catalogue_2020_spread.pdf', 'page': 20, 'total_pages': 33, 'format': 'PDF 1.6', 'title': '', 'author': '', 'subject': '', 'keywords': '', 'creator': 'Adobe InDesign 15.0 (Macintosh)', 'producer': 'Adobe PDF Library 15.0', 'creationDate': \"D:20201213133913+04'00'\", 'modDate': \"D:20210217151128+02'00'\", 'trapped': ''}]\n",
      "* [SIM=1.362396] 40 |\n",
      "| 41\n",
      "Braga 20-inch\n",
      "Colour: Dark Graphite\n",
      "/ Matte\n",
      "Wheel size: 9J x 20\n",
      "Tyre size: 285/45 R20\n",
      "Max. gross axle weight\n",
      "rating (kg): 1,810\n",
      "Merano 18-inch\n",
      "Colour: Brilliant Silver\n",
      "Wheel size: 8J x 18\n",
      "Tyre size: 255/60 R18\n",
      "Max. gross axle weight\n",
      "rating (kg): 1,700\n",
      "Distribution note: Not\n",
      "for Brazil\n",
      "Nevada 20-inch\n",
      "Colour: Black /\n",
      "Gloss machined\n",
      "Wheel size: 9J x 20\n",
      "Tyre size: 285/45 R20\n",
      "Max. gross axle weight\n",
      "rating (kg): 1,810\n",
      "Corvara 17-inch\n",
      "Colour: Brilliant silver\n",
      "Wheel size: 7.5J x 17\n",
      "Tyre size: 235/70 R17\n",
      "Max. gross axle weight\n",
      "rating (kg): 1,900\n",
      "Distribution note: Not\n",
      "for Brazil\n",
      "Nevada 20-inch\n",
      "Colour: Black\n",
      "Wheel size: 9J x 20\n",
      "Tyre size: 285/45 R20\n",
      "Max. gross axle weight\n",
      "rating (kg): 1,810\n",
      "Snow chains servo - SUV\n",
      "Tyre size: 235/70 R17\n",
      "Scope of supply: 2\n",
      "pieces, incl. storage bag\n",
      "Sebring 19-inch\n",
      "Colour: Metallic Grey\n",
      "Wheel size: 8.5J x 19\n",
      "Tyre size: 255/55 R19\n",
      "Max. gross axle weight\n",
      "rating (kg): 1,810\n",
      "Snow chains servo - SUV\n",
      "Tyre size: 255/60 R18,\n",
      "255/55 R19\n",
      "Scope of supply: 2 [{'source': 'E:\\\\Others\\\\document_assistant\\\\VWAccessories Catalogue_2020_spread.pdf', 'file_path': 'E:\\\\Others\\\\document_assistant\\\\VWAccessories Catalogue_2020_spread.pdf', 'page': 20, 'total_pages': 33, 'format': 'PDF 1.6', 'title': '', 'author': '', 'subject': '', 'keywords': '', 'creator': 'Adobe InDesign 15.0 (Macintosh)', 'producer': 'Adobe PDF Library 15.0', 'creationDate': \"D:20201213133913+04'00'\", 'modDate': \"D:20210217151128+02'00'\", 'trapped': ''}]\n"
     ]
    }
   ],
   "source": [
    "results = vector_store.similarity_search_with_score(\n",
    "    \"What is the torque?\", k=2\n",
    ")\n",
    "for res, score in results:\n",
    "    print(f\"* [SIM={score:3f}] {res.page_content} [{res.metadata}]\")"
   ]
  },
  {
   "cell_type": "code",
   "execution_count": 67,
   "metadata": {},
   "outputs": [
    {
     "data": {
      "text/plain": [
       "True"
      ]
     },
     "execution_count": 67,
     "metadata": {},
     "output_type": "execute_result"
    }
   ],
   "source": [
    "##Using LLM to generate\n",
    "from dotenv import load_dotenv\n",
    "from langchain_groq import ChatGroq\n",
    "from langchain_core.prompts import ChatPromptTemplate\n",
    "from langchain.chains import create_retrieval_chain\n",
    "from langchain.chains.combine_documents import create_stuff_documents_chain\n",
    "\n",
    "\n",
    "#Loading the env file\n",
    "load_dotenv()"
   ]
  },
  {
   "cell_type": "code",
   "execution_count": 68,
   "metadata": {},
   "outputs": [],
   "source": [
    "llm = ChatGroq(model=\"llama3-8b-8192\")"
   ]
  },
  {
   "cell_type": "code",
   "execution_count": 69,
   "metadata": {},
   "outputs": [],
   "source": [
    "#Defining prompts for effective retrieval\n",
    "\n",
    "system_prompts = (\n",
    "    \"You're an assistant who can retrieve data from the document. Use the given context to give the most appropriate answer to the query.\"\n",
    "    \"Keep the answer concise and to the point. If you don't know the answer, you can say 'I don't know'.\"\n",
    "    \"Dont add lines like 'according to the document' or 'as per the document'.\"\n",
    "    \"\\n\\n\"\n",
    "    \"{context}\"\n",
    ")\n",
    "\n",
    "prompt = ChatPromptTemplate(\n",
    "    [\n",
    "        (\"system\",system_prompts),\n",
    "        (\"human\",\"{input}\")\n",
    "    ]\n",
    ")\n",
    "\n",
    "retriever = vector_store.as_retriever()\n",
    "qa_chain = create_stuff_documents_chain(llm,prompt)\n",
    "rag_chain = create_retrieval_chain(retriever,qa_chain)"
   ]
  },
  {
   "cell_type": "code",
   "execution_count": 70,
   "metadata": {},
   "outputs": [
    {
     "data": {
      "text/plain": [
       "'Dark Graphite and Grey.'"
      ]
     },
     "execution_count": 70,
     "metadata": {},
     "output_type": "execute_result"
    }
   ],
   "source": [
    "response = rag_chain.invoke({\"input\": \"What color variants does it have?\"})\n",
    "response[\"answer\"]"
   ]
  },
  {
   "cell_type": "code",
   "execution_count": 71,
   "metadata": {},
   "outputs": [],
   "source": [
    "# Adding chat history\n",
    "\n",
    "from langchain.chains import create_history_aware_retriever\n",
    "from langchain_core.prompts import MessagesPlaceholder\n",
    "\n",
    "contextualize_q_system_prompt = (\n",
    "    \"Given a chat history and the latest user question \"\n",
    "    \"which might reference context in the chat history, \"\n",
    "    \"formulate a standalone question which can be understood \"\n",
    "    \"without the chat history. Do NOT answer the question, \"\n",
    "    \"just reformulate it if needed and otherwise return it as is.\"\n",
    ")\n",
    "\n",
    "contextualize_q_prompt = ChatPromptTemplate(\n",
    "    [\n",
    "        (\"system\", contextualize_q_system_prompt),\n",
    "        MessagesPlaceholder(\"chat_history\"),\n",
    "        (\"human\", \"{input}\"),\n",
    "    ]\n",
    ")\n",
    "\n",
    "history_aware_retriever = create_history_aware_retriever(llm,retriever,contextualize_q_prompt)\n"
   ]
  },
  {
   "cell_type": "code",
   "execution_count": 72,
   "metadata": {},
   "outputs": [],
   "source": [
    "qa_prompt = ChatPromptTemplate(\n",
    "    [\n",
    "        (\"system\", system_prompts),\n",
    "        MessagesPlaceholder(\"chat_history\"),\n",
    "        (\"human\", \"{input}\"),\n",
    "    ]\n",
    ")\n",
    "\n",
    "qa_chain = create_stuff_documents_chain(llm, qa_prompt)\n",
    "rag_chain = create_retrieval_chain(history_aware_retriever, qa_chain)"
   ]
  },
  {
   "cell_type": "code",
   "execution_count": 75,
   "metadata": {},
   "outputs": [
    {
     "name": "stdout",
     "output_type": "stream",
     "text": [
      "The biggest size tyre is 285/45 R20, and it is for the Braga 20-inch and Nevada 20-inch variants.\n"
     ]
    }
   ],
   "source": [
    "from langchain_core.messages import AIMessage,HumanMessage\n",
    "\n",
    "chat_history = []\n",
    "\n",
    "question = \"What are the color variants and tyre size?\"\n",
    "ai_msg_1 = rag_chain.invoke({\"input\":question,\"chat_history\":chat_history})\n",
    "\n",
    "chat_history.extend(\n",
    "    [\n",
    "        HumanMessage(content=question),\n",
    "        AIMessage(content=ai_msg_1[\"answer\"]),\n",
    "    ]\n",
    ")\n",
    "\n",
    "second_question = \"What is the biggest size tyre, and for which variant?\"\n",
    "ai_msg_2 = rag_chain.invoke({\"input\": second_question, \"chat_history\": chat_history})\n",
    "\n",
    "print(ai_msg_2[\"answer\"])"
   ]
  },
  {
   "cell_type": "code",
   "execution_count": 76,
   "metadata": {},
   "outputs": [],
   "source": [
    "#Stateful management of chat history\n",
    "from langchain_community.chat_message_histories import ChatMessageHistory\n",
    "from langchain_core.chat_history import BaseChatMessageHistory\n",
    "from langchain_core.runnables.history import RunnableWithMessageHistory\n",
    "\n",
    "store = {}\n",
    "\n",
    "def get_session_history(session_id):\n",
    "    if session_id not in store:\n",
    "        store[session_id]=ChatMessageHistory()\n",
    "    return store[session_id]\n",
    "\n",
    "conversational_rag_chain = RunnableWithMessageHistory(\n",
    "    rag_chain,\n",
    "    get_session_history,\n",
    "    input_messages_key = \"input\",\n",
    "    history_messages_key = \"chat_history\",\n",
    "    output_messages_key = \"answer\"\n",
    ")"
   ]
  },
  {
   "cell_type": "code",
   "execution_count": 79,
   "metadata": {},
   "outputs": [
    {
     "data": {
      "text/plain": [
       "'Some part numbers for floor mats mentioned in the document are:\\n\\n* 5H1061270 WGK\\n* 5H2061270 WGK\\n* 5H1061445 WGK\\n* 5G1061404 WGK\\n* 5H0061512 82V\\n* 5NL061279 WGK'"
      ]
     },
     "execution_count": 79,
     "metadata": {},
     "output_type": "execute_result"
    }
   ],
   "source": [
    "conversational_rag_chain.invoke(\n",
    "    {\"input\":\"What is the part number for floor mats?\"},\n",
    "    config = {'configurable':{\"session_id\":\"abc123\"}}\n",
    ")[\"answer\"]"
   ]
  },
  {
   "cell_type": "code",
   "execution_count": 80,
   "metadata": {},
   "outputs": [
    {
     "data": {
      "text/plain": [
       "'Yes, according to the document, you can carry devices using the following accessories:\\n\\n* Tablet holder (Part number: 000.061.125.E or 000.061.125.N)\\n* Hook for headset (Part number: 000.019.819.C)\\n* Cradle for Mobile (Part number: 000.063.511.E)\\n* USB extension (Part number: 000.051.435.AG)'"
      ]
     },
     "execution_count": 80,
     "metadata": {},
     "output_type": "execute_result"
    }
   ],
   "source": [
    "conversational_rag_chain.invoke(\n",
    "    {\"input\":\"Can we carry devices?\"},\n",
    "    config = {'configurable':{\"session_id\":\"abc123\"}}\n",
    ")[\"answer\"]"
   ]
  },
  {
   "cell_type": "code",
   "execution_count": 81,
   "metadata": {},
   "outputs": [
    {
     "data": {
      "text/plain": [
       "'According to the document, you can carry iPad devices using the following accessories:\\n\\n* Tablet holder for iPad 2-4 (Part number: 000.061.125.A)\\n* Tablet holder for iPad Air (Part number: 000.061.125.E)'"
      ]
     },
     "execution_count": 81,
     "metadata": {},
     "output_type": "execute_result"
    }
   ],
   "source": [
    "conversational_rag_chain.invoke(\n",
    "    {\"input\":\"What about ipads?\"},\n",
    "    config = {'configurable':{\"session_id\":\"abc123\"}}\n",
    ")[\"answer\"]"
   ]
  },
  {
   "cell_type": "code",
   "execution_count": 83,
   "metadata": {},
   "outputs": [
    {
     "data": {
      "text/plain": [
       "'According to the document, the Volkswagen Genuine roof box Comfort 340 and Comfort 460 mention an \"optimised aerodynamic design that reduces unpleasant driving noises as much as possible\" and a \"3-point central locking mechanism\", which suggests that the car is designed to provide a comfortable and secure driving experience.'"
      ]
     },
     "execution_count": 83,
     "metadata": {},
     "output_type": "execute_result"
    }
   ],
   "source": [
    "conversational_rag_chain.invoke(\n",
    "    {\"input\":\"Is the car comfortable?\"},\n",
    "    config = {'configurable':{\"session_id\":\"abc123\"}}\n",
    ")[\"answer\"]"
   ]
  },
  {
   "cell_type": "code",
   "execution_count": 84,
   "metadata": {},
   "outputs": [
    {
     "data": {
      "text/plain": [
       "'According to the document, the social media links for Volkswagen Middle East are:\\n\\n* YouTube: youtube.com/volkswagenmiddleeast\\n* Facebook: facebook.com/VolkswagenME\\n* Instagram: instagram.com/volkswagenme'"
      ]
     },
     "execution_count": 84,
     "metadata": {},
     "output_type": "execute_result"
    }
   ],
   "source": [
    "conversational_rag_chain.invoke(\n",
    "    {\"input\":\"What is the social media links for the Volkswagen?\"},\n",
    "    config = {'configurable':{\"session_id\":\"abc123\"}}\n",
    ")[\"answer\"]"
   ]
  },
  {
   "cell_type": "code",
   "execution_count": 85,
   "metadata": {},
   "outputs": [
    {
     "data": {
      "text/plain": [
       "'The document appears to be an accessories catalogue for Volkswagen passenger cars in the Middle East. It lists various accessories, including roof boxes, wheel holders, pedal caps, all-weather floor mats, and tablet holders. The document also mentions the official Volkswagen Middle East social media channels and website. Additionally, it provides information on the Volkswagen Genuine roof box Comfort 340 and Comfort 460, highlighting their features and benefits.'"
      ]
     },
     "execution_count": 85,
     "metadata": {},
     "output_type": "execute_result"
    }
   ],
   "source": [
    "conversational_rag_chain.invoke(\n",
    "    {\"input\":\"Can you summarize the document for me?\"},\n",
    "    config = {'configurable':{\"session_id\":\"abc123\"}}\n",
    ")[\"answer\"]"
   ]
  }
 ],
 "metadata": {
  "kernelspec": {
   "display_name": "llama_env",
   "language": "python",
   "name": "python3"
  },
  "language_info": {
   "codemirror_mode": {
    "name": "ipython",
    "version": 3
   },
   "file_extension": ".py",
   "mimetype": "text/x-python",
   "name": "python",
   "nbconvert_exporter": "python",
   "pygments_lexer": "ipython3",
   "version": "3.10.16"
  }
 },
 "nbformat": 4,
 "nbformat_minor": 2
}
